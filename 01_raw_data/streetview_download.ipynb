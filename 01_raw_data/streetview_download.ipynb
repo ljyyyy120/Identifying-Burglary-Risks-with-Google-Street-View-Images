{
 "cells": [
  {
   "cell_type": "code",
   "execution_count": 5,
   "metadata": {},
   "outputs": [
    {
     "name": "stdout",
     "output_type": "stream",
     "text": [
      "\u001b[31mERROR: Could not find a version that satisfies the requirement urllib2 (from versions: none)\u001b[0m\u001b[31m\n",
      "\u001b[0m\u001b[31mERROR: No matching distribution found for urllib2\u001b[0m\u001b[31m\n",
      "\u001b[0mNote: you may need to restart the kernel to use updated packages.\n"
     ]
    }
   ],
   "source": [
    "%pip install urllib2"
   ]
  },
  {
   "cell_type": "code",
   "execution_count": 59,
   "metadata": {},
   "outputs": [],
   "source": [
    "import os\n",
    "import json\n",
    "import sys\n",
    "import time\n",
    "import pandas as pd\n",
    "import urllib.request"
   ]
  },
  {
   "cell_type": "code",
   "execution_count": 60,
   "metadata": {},
   "outputs": [],
   "source": [
    "# define the fuction to get street map\n",
    "def GetStreet(position, orientation, key, save_path):\n",
    "    headers = {\n",
    "        'User-Agent': \"Mozilla/5.0 (Windows NT 6.1) AppleWebKit/537.36 (KHTML, like Gecko) Chrome/41.0.2228.0 Safari/537.36\"\n",
    "    }\n",
    "\n",
    "    base = \"https://maps.googleapis.com/maps/api/streetview?size=13312x6656&location=\"\n",
    "    img_url = f\"{base}{position}&heading={orientation}&key={key}\"\n",
    "    print(img_url) \n",
    "\n",
    "    position_path = os.path.join(save_path, position)\n",
    "    if not os.path.exists(position_path):\n",
    "        os.makedirs(position_path)\n",
    "\n",
    "    try:\n",
    "        req = urllib.request.Request(img_url, headers=headers)\n",
    "        with urllib.request.urlopen(req) as response:\n",
    "            raw_img = response.read()\n",
    "\n",
    "        file_out = os.path.join(position_path, f\"{orientation}.jpg\")\n",
    "        with open(file_out, \"wb\") as f:\n",
    "            f.write(raw_img)\n",
    "        print(\"File saved successfully.\")\n",
    "    except Exception as e:\n",
    "        print(f\"An error occurred: {e}\")\n"
   ]
  },
  {
   "cell_type": "code",
   "execution_count": 26,
   "metadata": {},
   "outputs": [],
   "source": [
    "# read the burgalry data \n",
    "# prosessing \"position\" filed into format of a string: \"lat,long\"\n",
    "burglary = pd.read_csv(\"../01_raw_data/NYPD_Complaint_Data_Historic_BURGLARY.csv\")\n",
    "burglary['position'] = burglary['Lat_Lon'].astype(str).str.replace(r\"[() \\[\\]]\", \"\", regex=True)"
   ]
  },
  {
   "cell_type": "code",
   "execution_count": 69,
   "metadata": {},
   "outputs": [],
   "source": [
    "# filter the burglary data\n",
    "sample = burglary.loc[(burglary['Borough Boundaries'] == 1)].iloc[:10]\n",
    "\n",
    "# define the parameter\n",
    "position_set = sample['position'].to_list()\n",
    "sampleloc = \"..01_raw_data/01_sample_streetview\"\n",
    "sampleorient = \"&heading=0.0&pitch=0.0\"\n",
    "key= \"ongoing\""
   ]
  },
  {
   "cell_type": "code",
   "execution_count": null,
   "metadata": {},
   "outputs": [],
   "source": [
    "for i in position_set:\n",
    "  GetStreet(orientation=sampleorient,key=key,save_path=sampleloc,position=i)"
   ]
  },
  {
   "cell_type": "code",
   "execution_count": 7,
   "metadata": {},
   "outputs": [],
   "source": [
    "# orientation\n",
    "orientation_set = [\"&heading=0.0&pitch=0.0\",\n",
    "                  \"&heading=60.0&pitch=0.0\",\n",
    "                  \"&heading=120.0&pitch=0.0\",\n",
    "                  \"&heading=180.0&pitch=0.0\",\n",
    "                  \"&heading=240.0&pitch=0.0\",\n",
    "                  \"&heading=300.0&pitch=0.0\",\n",
    "                  \"&heading=360.0&pitch=0.0\"]"
   ]
  }
 ],
 "metadata": {
  "kernelspec": {
   "display_name": "base",
   "language": "python",
   "name": "python3"
  },
  "language_info": {
   "codemirror_mode": {
    "name": "ipython",
    "version": 3
   },
   "file_extension": ".py",
   "mimetype": "text/x-python",
   "name": "python",
   "nbconvert_exporter": "python",
   "pygments_lexer": "ipython3",
   "version": "3.11.5"
  }
 },
 "nbformat": 4,
 "nbformat_minor": 2
}
