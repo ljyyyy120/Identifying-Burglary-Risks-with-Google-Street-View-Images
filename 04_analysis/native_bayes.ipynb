{
 "cells": [
  {
   "cell_type": "code",
   "execution_count": 18,
   "metadata": {},
   "outputs": [],
   "source": [
    "import pandas as pd\n",
    "import geopandas as gpd\n",
    "from shapely.geometry import Point\n"
   ]
  },
  {
   "cell_type": "code",
   "execution_count": 73,
   "metadata": {},
   "outputs": [],
   "source": [
    "crime = pd.read_csv('../01_raw_data/NYPD_Complaint_Data_Historic_BURGLARY.csv')\n",
    "income = gpd.read_file('../02_intermediate_data/censustract-medianhouseholdincome2022.csv')"
   ]
  },
  {
   "cell_type": "code",
   "execution_count": 75,
   "metadata": {},
   "outputs": [],
   "source": [
    "import numpy as np\n",
    "\n",
    "# Clean and preprocess the burglary data\n",
    "# Convert date and time into standardized format and extract features\n",
    "crime['CMPLNT_FR_DT'] = pd.to_datetime(crime['CMPLNT_FR_DT'], errors='coerce')\n",
    "crime['Day_of_Week'] = crime['CMPLNT_FR_DT'].dt.day_of_week\n",
    "crime['Hour_of_Day'] = pd.to_datetime(crime['CMPLNT_FR_TM'], format='%H:%M:%S', errors='coerce').dt.hour\n",
    "\n",
    "# Drop rows with invalid dates or times\n",
    "burglary_data = crime.dropna(subset=['CMPLNT_FR_DT', 'Hour_of_Day'])\n",
    "\n",
    "# Simplify the dataset to focus on essential columns for merging and analysis\n",
    "burglary_data_clean = burglary_data[['CMPLNT_NUM', 'CMPLNT_FR_DT', 'Day_of_Week', 'Hour_of_Day', 'Zip Codes','Latitude', 'Longitude']]"
   ]
  },
  {
   "cell_type": "code",
   "execution_count": 76,
   "metadata": {},
   "outputs": [
    {
     "data": {
      "text/html": [
       "<div>\n",
       "<style scoped>\n",
       "    .dataframe tbody tr th:only-of-type {\n",
       "        vertical-align: middle;\n",
       "    }\n",
       "\n",
       "    .dataframe tbody tr th {\n",
       "        vertical-align: top;\n",
       "    }\n",
       "\n",
       "    .dataframe thead th {\n",
       "        text-align: right;\n",
       "    }\n",
       "</style>\n",
       "<table border=\"1\" class=\"dataframe\">\n",
       "  <thead>\n",
       "    <tr style=\"text-align: right;\">\n",
       "      <th></th>\n",
       "      <th>CMPLNT_NUM</th>\n",
       "      <th>CMPLNT_FR_DT</th>\n",
       "      <th>Day_of_Week</th>\n",
       "      <th>Hour_of_Day</th>\n",
       "      <th>Zip Codes</th>\n",
       "      <th>Latitude</th>\n",
       "      <th>Longitude</th>\n",
       "      <th>geometry</th>\n",
       "    </tr>\n",
       "  </thead>\n",
       "  <tbody>\n",
       "    <tr>\n",
       "      <th>0</th>\n",
       "      <td>261161452</td>\n",
       "      <td>2022-12-31</td>\n",
       "      <td>5.0</td>\n",
       "      <td>3.0</td>\n",
       "      <td>12426.0</td>\n",
       "      <td>40.796477</td>\n",
       "      <td>-73.947411</td>\n",
       "      <td>POINT (-73.94741 40.79648)</td>\n",
       "    </tr>\n",
       "    <tr>\n",
       "      <th>1</th>\n",
       "      <td>261179625</td>\n",
       "      <td>2022-12-31</td>\n",
       "      <td>5.0</td>\n",
       "      <td>19.0</td>\n",
       "      <td>18181.0</td>\n",
       "      <td>40.694256</td>\n",
       "      <td>-73.932807</td>\n",
       "      <td>POINT (-73.93281 40.69426)</td>\n",
       "    </tr>\n",
       "    <tr>\n",
       "      <th>2</th>\n",
       "      <td>261179648</td>\n",
       "      <td>2022-12-31</td>\n",
       "      <td>5.0</td>\n",
       "      <td>18.0</td>\n",
       "      <td>14192.0</td>\n",
       "      <td>40.796133</td>\n",
       "      <td>-73.820462</td>\n",
       "      <td>POINT (-73.82046 40.79613)</td>\n",
       "    </tr>\n",
       "    <tr>\n",
       "      <th>3</th>\n",
       "      <td>261169002</td>\n",
       "      <td>2022-12-31</td>\n",
       "      <td>5.0</td>\n",
       "      <td>4.0</td>\n",
       "      <td>11270.0</td>\n",
       "      <td>40.837813</td>\n",
       "      <td>-73.826563</td>\n",
       "      <td>POINT (-73.82656 40.83781)</td>\n",
       "    </tr>\n",
       "    <tr>\n",
       "      <th>4</th>\n",
       "      <td>261175495</td>\n",
       "      <td>2022-12-31</td>\n",
       "      <td>5.0</td>\n",
       "      <td>21.0</td>\n",
       "      <td>10930.0</td>\n",
       "      <td>40.832601</td>\n",
       "      <td>-73.929564</td>\n",
       "      <td>POINT (-73.92956 40.83260)</td>\n",
       "    </tr>\n",
       "  </tbody>\n",
       "</table>\n",
       "</div>"
      ],
      "text/plain": [
       "   CMPLNT_NUM CMPLNT_FR_DT  Day_of_Week  Hour_of_Day  Zip Codes   Latitude  \\\n",
       "0   261161452   2022-12-31          5.0          3.0    12426.0  40.796477   \n",
       "1   261179625   2022-12-31          5.0         19.0    18181.0  40.694256   \n",
       "2   261179648   2022-12-31          5.0         18.0    14192.0  40.796133   \n",
       "3   261169002   2022-12-31          5.0          4.0    11270.0  40.837813   \n",
       "4   261175495   2022-12-31          5.0         21.0    10930.0  40.832601   \n",
       "\n",
       "   Longitude                    geometry  \n",
       "0 -73.947411  POINT (-73.94741 40.79648)  \n",
       "1 -73.932807  POINT (-73.93281 40.69426)  \n",
       "2 -73.820462  POINT (-73.82046 40.79613)  \n",
       "3 -73.826563  POINT (-73.82656 40.83781)  \n",
       "4 -73.929564  POINT (-73.92956 40.83260)  "
      ]
     },
     "execution_count": 76,
     "metadata": {},
     "output_type": "execute_result"
    }
   ],
   "source": [
    "burglary_data_clean = burglary_data_clean.dropna(subset=['Latitude', 'Longitude'])\n",
    "\n",
    "# Create Point geometries from latitude and longitude\n",
    "geometry = [Point(xy) for xy in zip(burglary_data_clean['Longitude'], burglary_data_clean['Latitude'])]\n",
    "burglary_gdf = gpd.GeoDataFrame(burglary_data_clean, geometry=geometry)\n",
    "\n",
    "# Set the coordinate reference system (CRS) to WGS84 (EPSG:4326)\n",
    "burglary_gdf.crs = \"EPSG:4326\"\n",
    "\n",
    "burglary_gdf.head()"
   ]
  },
  {
   "cell_type": "code",
   "execution_count": 77,
   "metadata": {},
   "outputs": [],
   "source": [
    "cencus = gpd.read_file('../02_intermediate_data/Median Income/gpd_med_income.shp')"
   ]
  },
  {
   "cell_type": "code",
   "execution_count": 79,
   "metadata": {},
   "outputs": [
    {
     "name": "stderr",
     "output_type": "stream",
     "text": [
      "/Users/lidouhao/anaconda3/envs/study/lib/python3.11/site-packages/IPython/core/interactiveshell.py:3466: FutureWarning: The `op` parameter is deprecated and will be removed in a future release. Please use the `predicate` parameter instead.\n",
      "  if await self.run_code(code, result, async_=asy):\n"
     ]
    }
   ],
   "source": [
    "census_tracts_gdf = cencus.to_crs(\"EPSG:4326\")  # Change CRS if needed to match burglary_gdf\n",
    "merged_data = gpd.sjoin(burglary_gdf, census_tracts_gdf, how=\"left\", op='intersects')\n",
    "merged_data = pd.merge(merged_data,income,left_on='GEOID',right_on='Census Tract',how='left')"
   ]
  },
  {
   "cell_type": "code",
   "execution_count": 107,
   "metadata": {},
   "outputs": [
    {
     "data": {
      "text/plain": [
       "Index(['CMPLNT_NUM', 'CMPLNT_FR_DT', 'Day_of_Week', 'Hour_of_Day', 'Zip Codes',\n",
       "       'Latitude', 'Longitude', 'geometry_x', 'index_right', 'STATEFP',\n",
       "       'COUNTYFP', 'TRACTCE', 'GEOID', 'GEOIDFQ', 'NAME', 'NAMELSAD', 'MTFCC',\n",
       "       'FUNCSTAT', 'ALAND', 'AWATER', 'INTPTLAT', 'INTPTLON', 'short_name',\n",
       "       'long_name', 'Census Tract', '2009-2013', '2014-2018', 'geometry_y'],\n",
       "      dtype='object')"
      ]
     },
     "execution_count": 107,
     "metadata": {},
     "output_type": "execute_result"
    }
   ],
   "source": [
    "merged_data.columns"
   ]
  },
  {
   "cell_type": "code",
   "execution_count": 130,
   "metadata": {},
   "outputs": [],
   "source": [
    "df1 = merged_data[['Latitude', 'Longitude','2014-2018']].copy()\n",
    "df1['2014-2018'] = pd.to_numeric(df1['2014-2018'], errors='coerce')\n",
    "df1['Burglary_Risk'] = 1\n",
    "df1 = df1.groupby(['Latitude', 'Longitude']).agg({'Burglary_Risk':'sum','2014-2018':'min'}).reset_index()\n",
    "df1['label'] =1"
   ]
  },
  {
   "cell_type": "code",
   "execution_count": 96,
   "metadata": {},
   "outputs": [],
   "source": [
    "no_bugrary = pd.read_csv('../01_raw_data/control_coordinates.csv')\n",
    "no_bugrary[['Latitude','Longitude']] = no_bugrary['Location'].str.split(',',n=2,expand=True)"
   ]
  },
  {
   "cell_type": "code",
   "execution_count": 95,
   "metadata": {},
   "outputs": [],
   "source": [
    "geometry1 = [Point(xy) for xy in zip(no_bugrary['Longitude'], no_bugrary['Latitude'])]\n",
    "noburglary_gdf = gpd.GeoDataFrame(no_bugrary, geometry=geometry1)\n",
    "noburglary_gdf.crs = \"EPSG:4326\""
   ]
  },
  {
   "cell_type": "code",
   "execution_count": 104,
   "metadata": {},
   "outputs": [
    {
     "name": "stderr",
     "output_type": "stream",
     "text": [
      "/Users/lidouhao/anaconda3/envs/study/lib/python3.11/site-packages/IPython/core/interactiveshell.py:3466: FutureWarning: The `op` parameter is deprecated and will be removed in a future release. Please use the `predicate` parameter instead.\n",
      "  if await self.run_code(code, result, async_=asy):\n"
     ]
    }
   ],
   "source": [
    "merged_data1 = gpd.sjoin(noburglary_gdf, census_tracts_gdf, how=\"left\", op='intersects')\n",
    "merged_data1 = merged_data1.dropna(subset=['GEOID'])\n",
    "merged_data1 = pd.merge(merged_data1,income,left_on='GEOID',right_on='Census Tract',how='left')"
   ]
  },
  {
   "cell_type": "code",
   "execution_count": 125,
   "metadata": {},
   "outputs": [],
   "source": [
    "df2 = merged_data1[['Latitude', 'Longitude','2014-2018']].copy()\n",
    "df2['Burglary_Risk'] = 0\n",
    "df2 = df2.drop_duplicates()\n",
    "df2['label'] = 0"
   ]
  },
  {
   "cell_type": "code",
   "execution_count": 139,
   "metadata": {},
   "outputs": [],
   "source": [
    "data = pd.concat([df1,df2])\n",
    "data = data.reset_index().drop('index',axis=1)\n",
    "data['2014-2018'] = pd.to_numeric(data['2014-2018'], errors='coerce')\n",
    "data = data.dropna()"
   ]
  },
  {
   "cell_type": "code",
   "execution_count": 140,
   "metadata": {},
   "outputs": [],
   "source": [
    "data.to_csv('../03_cleaned_data/data.csv')"
   ]
  },
  {
   "cell_type": "markdown",
   "metadata": {},
   "source": [
    "----"
   ]
  },
  {
   "cell_type": "code",
   "execution_count": 23,
   "metadata": {},
   "outputs": [
    {
     "data": {
      "text/html": [
       "<div>\n",
       "<style scoped>\n",
       "    .dataframe tbody tr th:only-of-type {\n",
       "        vertical-align: middle;\n",
       "    }\n",
       "\n",
       "    .dataframe tbody tr th {\n",
       "        vertical-align: top;\n",
       "    }\n",
       "\n",
       "    .dataframe thead th {\n",
       "        text-align: right;\n",
       "    }\n",
       "</style>\n",
       "<table border=\"1\" class=\"dataframe\">\n",
       "  <thead>\n",
       "    <tr style=\"text-align: right;\">\n",
       "      <th></th>\n",
       "      <th>Unnamed: 0</th>\n",
       "      <th>Latitude</th>\n",
       "      <th>Longitude</th>\n",
       "      <th>Burglary_Risk</th>\n",
       "      <th>2014-2018</th>\n",
       "      <th>label</th>\n",
       "    </tr>\n",
       "  </thead>\n",
       "  <tbody>\n",
       "    <tr>\n",
       "      <th>0</th>\n",
       "      <td>0</td>\n",
       "      <td>40.498896</td>\n",
       "      <td>-74.241534</td>\n",
       "      <td>3</td>\n",
       "      <td>107356.630775</td>\n",
       "      <td>1</td>\n",
       "    </tr>\n",
       "    <tr>\n",
       "      <th>1</th>\n",
       "      <td>1</td>\n",
       "      <td>40.499017</td>\n",
       "      <td>-74.240599</td>\n",
       "      <td>1</td>\n",
       "      <td>107356.630775</td>\n",
       "      <td>1</td>\n",
       "    </tr>\n",
       "    <tr>\n",
       "      <th>2</th>\n",
       "      <td>2</td>\n",
       "      <td>40.499315</td>\n",
       "      <td>-74.239739</td>\n",
       "      <td>3</td>\n",
       "      <td>107356.630775</td>\n",
       "      <td>1</td>\n",
       "    </tr>\n",
       "    <tr>\n",
       "      <th>3</th>\n",
       "      <td>3</td>\n",
       "      <td>40.499393</td>\n",
       "      <td>-74.242174</td>\n",
       "      <td>1</td>\n",
       "      <td>107356.630775</td>\n",
       "      <td>1</td>\n",
       "    </tr>\n",
       "    <tr>\n",
       "      <th>4</th>\n",
       "      <td>4</td>\n",
       "      <td>40.500554</td>\n",
       "      <td>-74.243048</td>\n",
       "      <td>2</td>\n",
       "      <td>107356.630775</td>\n",
       "      <td>1</td>\n",
       "    </tr>\n",
       "    <tr>\n",
       "      <th>...</th>\n",
       "      <td>...</td>\n",
       "      <td>...</td>\n",
       "      <td>...</td>\n",
       "      <td>...</td>\n",
       "      <td>...</td>\n",
       "      <td>...</td>\n",
       "    </tr>\n",
       "    <tr>\n",
       "      <th>65743</th>\n",
       "      <td>91736</td>\n",
       "      <td>40.680421</td>\n",
       "      <td>-73.936317</td>\n",
       "      <td>0</td>\n",
       "      <td>54524.955062</td>\n",
       "      <td>0</td>\n",
       "    </tr>\n",
       "    <tr>\n",
       "      <th>65744</th>\n",
       "      <td>91739</td>\n",
       "      <td>40.636328</td>\n",
       "      <td>-74.046730</td>\n",
       "      <td>0</td>\n",
       "      <td>80281.162008</td>\n",
       "      <td>0</td>\n",
       "    </tr>\n",
       "    <tr>\n",
       "      <th>65745</th>\n",
       "      <td>91741</td>\n",
       "      <td>40.840248</td>\n",
       "      <td>-73.956960</td>\n",
       "      <td>0</td>\n",
       "      <td>56111.696084</td>\n",
       "      <td>0</td>\n",
       "    </tr>\n",
       "    <tr>\n",
       "      <th>65746</th>\n",
       "      <td>91742</td>\n",
       "      <td>40.617088</td>\n",
       "      <td>-73.924005</td>\n",
       "      <td>0</td>\n",
       "      <td>122972.429205</td>\n",
       "      <td>0</td>\n",
       "    </tr>\n",
       "    <tr>\n",
       "      <th>65747</th>\n",
       "      <td>91744</td>\n",
       "      <td>40.693404</td>\n",
       "      <td>-73.920188</td>\n",
       "      <td>0</td>\n",
       "      <td>27876.772984</td>\n",
       "      <td>0</td>\n",
       "    </tr>\n",
       "  </tbody>\n",
       "</table>\n",
       "<p>65748 rows × 6 columns</p>\n",
       "</div>"
      ],
      "text/plain": [
       "       Unnamed: 0   Latitude  Longitude  Burglary_Risk      2014-2018  label\n",
       "0               0  40.498896 -74.241534              3  107356.630775      1\n",
       "1               1  40.499017 -74.240599              1  107356.630775      1\n",
       "2               2  40.499315 -74.239739              3  107356.630775      1\n",
       "3               3  40.499393 -74.242174              1  107356.630775      1\n",
       "4               4  40.500554 -74.243048              2  107356.630775      1\n",
       "...           ...        ...        ...            ...            ...    ...\n",
       "65743       91736  40.680421 -73.936317              0   54524.955062      0\n",
       "65744       91739  40.636328 -74.046730              0   80281.162008      0\n",
       "65745       91741  40.840248 -73.956960              0   56111.696084      0\n",
       "65746       91742  40.617088 -73.924005              0  122972.429205      0\n",
       "65747       91744  40.693404 -73.920188              0   27876.772984      0\n",
       "\n",
       "[65748 rows x 6 columns]"
      ]
     },
     "execution_count": 23,
     "metadata": {},
     "output_type": "execute_result"
    }
   ],
   "source": [
    "data = pd.read_csv('../03_cleaned_data/data.csv')\n",
    "data"
   ]
  },
  {
   "cell_type": "code",
   "execution_count": 3,
   "metadata": {},
   "outputs": [],
   "source": [
    "import pandas as pd\n",
    "from sklearn.model_selection import train_test_split\n",
    "from sklearn.naive_bayes import GaussianNB\n",
    "from sklearn.metrics import accuracy_score, classification_report\n",
    "from sklearn.preprocessing import LabelEncoder"
   ]
  },
  {
   "cell_type": "code",
   "execution_count": 16,
   "metadata": {},
   "outputs": [],
   "source": [
    "\n",
    "# Select features and target\n",
    "X = data[['2014-2018','Latitude','Longitude']]  # Example features\n",
    "y = data['label']  # Target variable\n",
    "\n",
    "# Split the data into training and test sets\n",
    "X_train, X_test, y_train, y_test = train_test_split(X, y, test_size=0.3, random_state=42)"
   ]
  },
  {
   "cell_type": "code",
   "execution_count": 17,
   "metadata": {},
   "outputs": [
    {
     "name": "stdout",
     "output_type": "stream",
     "text": [
      "Accuracy: 0.73191381495564\n",
      "              precision    recall  f1-score   support\n",
      "\n",
      "           0       0.48      0.33      0.39      5175\n",
      "           1       0.79      0.87      0.83     14550\n",
      "\n",
      "    accuracy                           0.73     19725\n",
      "   macro avg       0.64      0.60      0.61     19725\n",
      "weighted avg       0.71      0.73      0.71     19725\n",
      "\n"
     ]
    }
   ],
   "source": [
    "from sklearn.ensemble import RandomForestClassifier\n",
    "\n",
    "# Initialize the Random Forest classifier\n",
    "model_rf = RandomForestClassifier(n_estimators=100, random_state=42)\n",
    "\n",
    "# Train the model\n",
    "model_rf.fit(X_train, y_train)\n",
    "\n",
    "# Predict on the test set\n",
    "y_pred_rf = model_rf.predict(X_test)\n",
    "\n",
    "# Evaluate the model\n",
    "print(\"Accuracy:\", accuracy_score(y_test, y_pred_rf))\n",
    "print(classification_report(y_test, y_pred_rf))"
   ]
  },
  {
   "cell_type": "code",
   "execution_count": 32,
   "metadata": {},
   "outputs": [
    {
     "name": "stdout",
     "output_type": "stream",
     "text": [
      "Accuracy: 0.7734347275031686\n",
      "              precision    recall  f1-score   support\n",
      "\n",
      "           0       0.68      0.26      0.38      5175\n",
      "           1       0.78      0.96      0.86     14550\n",
      "\n",
      "    accuracy                           0.77     19725\n",
      "   macro avg       0.73      0.61      0.62     19725\n",
      "weighted avg       0.76      0.77      0.73     19725\n",
      "\n"
     ]
    }
   ],
   "source": [
    "from sklearn.neighbors import KNeighborsClassifier\n",
    "from sklearn.preprocessing import StandardScaler\n",
    "\n",
    "# Scaling features\n",
    "scaler = StandardScaler()\n",
    "X_train_scaled = scaler.fit_transform(X_train)\n",
    "X_test_scaled = scaler.transform(X_test)\n",
    "\n",
    "# Initialize KNN classifier\n",
    "knn = KNeighborsClassifier(n_neighbors=9)  # Start with k=5\n",
    "\n",
    "# Train the model\n",
    "knn.fit(X_train_scaled, y_train)\n",
    "\n",
    "# Predict on the test set\n",
    "y_pred_knn = knn.predict(X_test_scaled)\n",
    "\n",
    "# Evaluate the model\n",
    "print(\"Accuracy:\", accuracy_score(y_test, y_pred_knn))\n",
    "print(classification_report(y_test, y_pred_knn))"
   ]
  },
  {
   "cell_type": "code",
   "execution_count": 19,
   "metadata": {},
   "outputs": [
    {
     "name": "stdout",
     "output_type": "stream",
     "text": [
      "Accuracy: 0.7376425855513308\n",
      "              precision    recall  f1-score   support\n",
      "\n",
      "           0       0.00      0.00      0.00      5175\n",
      "           1       0.74      1.00      0.85     14550\n",
      "\n",
      "    accuracy                           0.74     19725\n",
      "   macro avg       0.37      0.50      0.42     19725\n",
      "weighted avg       0.54      0.74      0.63     19725\n",
      "\n"
     ]
    },
    {
     "name": "stderr",
     "output_type": "stream",
     "text": [
      "/Users/lidouhao/anaconda3/envs/study/lib/python3.11/site-packages/sklearn/metrics/_classification.py:1469: UndefinedMetricWarning: Precision and F-score are ill-defined and being set to 0.0 in labels with no predicted samples. Use `zero_division` parameter to control this behavior.\n",
      "  _warn_prf(average, modifier, msg_start, len(result))\n",
      "/Users/lidouhao/anaconda3/envs/study/lib/python3.11/site-packages/sklearn/metrics/_classification.py:1469: UndefinedMetricWarning: Precision and F-score are ill-defined and being set to 0.0 in labels with no predicted samples. Use `zero_division` parameter to control this behavior.\n",
      "  _warn_prf(average, modifier, msg_start, len(result))\n",
      "/Users/lidouhao/anaconda3/envs/study/lib/python3.11/site-packages/sklearn/metrics/_classification.py:1469: UndefinedMetricWarning: Precision and F-score are ill-defined and being set to 0.0 in labels with no predicted samples. Use `zero_division` parameter to control this behavior.\n",
      "  _warn_prf(average, modifier, msg_start, len(result))\n"
     ]
    }
   ],
   "source": [
    "from sklearn.linear_model import LogisticRegression\n",
    "from sklearn.preprocessing import StandardScaler\n",
    "from sklearn.metrics import accuracy_score, classification_report, roc_auc_score\n",
    "\n",
    "# Scaling features\n",
    "scaler = StandardScaler()\n",
    "X_train_scaled = scaler.fit_transform(X_train)\n",
    "X_test_scaled = scaler.transform(X_test)\n",
    "\n",
    "# Initialize Logistic Regression\n",
    "logreg = LogisticRegression(solver='liblinear', random_state=42)  # Using liblinear as solver for binary classification\n",
    "\n",
    "# Train the model\n",
    "logreg.fit(X_train_scaled, y_train)\n",
    "\n",
    "# Predict on the test set\n",
    "y_pred_logreg = logreg.predict(X_test_scaled)\n",
    "\n",
    "# Evaluate the model\n",
    "print(\"Accuracy:\", accuracy_score(y_test, y_pred_logreg))\n",
    "print(classification_report(y_test, y_pred_logreg))"
   ]
  },
  {
   "cell_type": "code",
   "execution_count": 21,
   "metadata": {},
   "outputs": [
    {
     "name": "stdout",
     "output_type": "stream",
     "text": [
      "Accuracy: 0.7783016476552598\n",
      "              precision    recall  f1-score   support\n",
      "\n",
      "           0       0.80      0.20      0.33      5175\n",
      "           1       0.78      0.98      0.87     14550\n",
      "\n",
      "    accuracy                           0.78     19725\n",
      "   macro avg       0.79      0.59      0.60     19725\n",
      "weighted avg       0.78      0.78      0.73     19725\n",
      "\n"
     ]
    }
   ],
   "source": [
    "import xgboost as xgb\n",
    "import numpy as np\n",
    "from sklearn.metrics import accuracy_score, classification_report\n",
    "from sklearn.model_selection import train_test_split\n",
    "\n",
    "xgb_clf = xgb.XGBClassifier(objective='multi:softmax', num_class=len(np.unique(y_train)), n_estimators=100, seed=42, learning_rate=0.1)\n",
    "from sklearn.preprocessing import LabelEncoder\n",
    "\n",
    "# Encoding target variable if it's not already in the proper format\n",
    "label_encoder = LabelEncoder()\n",
    "y_train_encoded = label_encoder.fit_transform(y_train)\n",
    "y_test_encoded = label_encoder.transform(y_test)\n",
    "\n",
    "# Then train your model with the encoded labels\n",
    "xgb_clf.fit(X_train, y_train_encoded)\n",
    "y_pred_xgb = xgb_clf.predict(X_test)\n",
    "\n",
    "accuracy = accuracy_score(y_test, y_pred_xgb)\n",
    "print(\"Accuracy:\", accuracy)\n",
    "print(classification_report(y_test, y_pred_xgb))"
   ]
  }
 ],
 "metadata": {
  "kernelspec": {
   "display_name": "study",
   "language": "python",
   "name": "python3"
  },
  "language_info": {
   "codemirror_mode": {
    "name": "ipython",
    "version": 3
   },
   "file_extension": ".py",
   "mimetype": "text/x-python",
   "name": "python",
   "nbconvert_exporter": "python",
   "pygments_lexer": "ipython3",
   "version": "3.11.5"
  }
 },
 "nbformat": 4,
 "nbformat_minor": 2
}
